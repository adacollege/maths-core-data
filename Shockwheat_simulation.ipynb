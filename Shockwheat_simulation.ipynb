{
 "cells": [
  {
   "cell_type": "code",
   "execution_count": null,
   "metadata": {
    "id": "AcLyOEY_eJj4"
   },
   "outputs": [],
   "source": [
    "import random\n",
    "import pandas as pd\n",
    "import matplotlib.pyplot as plt"
   ]
  },
  {
   "cell_type": "code",
   "execution_count": null,
   "metadata": {
    "id": "8JYYCgxlbsD5"
   },
   "outputs": [],
   "source": [
    "def get_rolls():\n",
    "  rolls = set()\n",
    "  count = 0\n",
    "  while len(rolls) < 6:\n",
    "    rolls.add(random.randint(1,6))\n",
    "    count +=1\n",
    "  return count"
   ]
  },
  {
   "cell_type": "code",
   "execution_count": null,
   "metadata": {
    "id": "hNlbHBXghO0v"
   },
   "outputs": [],
   "source": [
    "results = []\n",
    "for _ in range(1000):\n",
    "  results.append(get_rolls())"
   ]
  },
  {
   "cell_type": "code",
   "execution_count": null,
   "metadata": {
    "colab": {
     "base_uri": "https://localhost:8080/",
     "height": 282
    },
    "id": "8W8quhRmkCDY",
    "outputId": "1f8cef38-f041-4560-babf-035de156eb30"
   },
   "outputs": [
    {
     "data": {
      "text/plain": [
       "<matplotlib.axes._subplots.AxesSubplot at 0x7f5ba231d978>"
      ]
     },
     "execution_count": 74,
     "metadata": {
      "tags": []
     },
     "output_type": "execute_result"
    },
    {
     "data": {
      "image/png": "[encoded data removed]",
      "text/plain": [
       "<Figure size 432x288 with 1 Axes>"
      ]
     },
     "metadata": {
      "needs_background": "light",
      "tags": []
     },
     "output_type": "display_data"
    }
   ],
   "source": [
    "result_data = pd.Series(results)\n",
    "result_data.value_counts().sort_index().cumsum().plot()"
   ]
  },
  {
   "cell_type": "code",
   "execution_count": null,
   "metadata": {
    "colab": {
     "base_uri": "https://localhost:8080/",
     "height": 34
    },
    "id": "Ue3o6qsuquHD",
    "outputId": "ba81e8fd-32dd-4669-f0fb-9e8bab5c667f"
   },
   "outputs": [
    {
     "data": {
      "text/plain": [
       "23.0"
      ]
     },
     "execution_count": 76,
     "metadata": {
      "tags": []
     },
     "output_type": "execute_result"
    }
   ],
   "source": [
    "result_data.quantile(0.9)"
   ]
  }
 ],
 "metadata": {
  "colab": {
   "name": "Shockwheat simulation.ipynb",
   "provenance": []
  },
  "kernelspec": {
   "display_name": "Python 3",
   "name": "python3"
  }
 },
 "nbformat": 4,
 "nbformat_minor": 0
}
